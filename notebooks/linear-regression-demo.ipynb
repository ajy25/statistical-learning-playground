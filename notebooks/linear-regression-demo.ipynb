{
 "cells": [
  {
   "cell_type": "markdown",
   "metadata": {},
   "source": [
    "## Demonstration of linear regression on the advertising dataset"
   ]
  },
  {
   "cell_type": "markdown",
   "metadata": {},
   "source": [
    "### Step 1: Read CSV"
   ]
  },
  {
   "cell_type": "code",
   "execution_count": 2,
   "metadata": {},
   "outputs": [
    {
     "data": {
      "text/html": [
       "<div>\n",
       "<style scoped>\n",
       "    .dataframe tbody tr th:only-of-type {\n",
       "        vertical-align: middle;\n",
       "    }\n",
       "\n",
       "    .dataframe tbody tr th {\n",
       "        vertical-align: top;\n",
       "    }\n",
       "\n",
       "    .dataframe thead th {\n",
       "        text-align: right;\n",
       "    }\n",
       "</style>\n",
       "<table border=\"1\" class=\"dataframe\">\n",
       "  <thead>\n",
       "    <tr style=\"text-align: right;\">\n",
       "      <th></th>\n",
       "      <th>TV</th>\n",
       "      <th>Radio</th>\n",
       "      <th>Newspaper</th>\n",
       "      <th>Sales</th>\n",
       "    </tr>\n",
       "  </thead>\n",
       "  <tbody>\n",
       "    <tr>\n",
       "      <th>1</th>\n",
       "      <td>230.1</td>\n",
       "      <td>37.8</td>\n",
       "      <td>69.2</td>\n",
       "      <td>22.1</td>\n",
       "    </tr>\n",
       "    <tr>\n",
       "      <th>2</th>\n",
       "      <td>44.5</td>\n",
       "      <td>39.3</td>\n",
       "      <td>45.1</td>\n",
       "      <td>10.4</td>\n",
       "    </tr>\n",
       "    <tr>\n",
       "      <th>3</th>\n",
       "      <td>17.2</td>\n",
       "      <td>45.9</td>\n",
       "      <td>69.3</td>\n",
       "      <td>9.3</td>\n",
       "    </tr>\n",
       "    <tr>\n",
       "      <th>4</th>\n",
       "      <td>151.5</td>\n",
       "      <td>41.3</td>\n",
       "      <td>58.5</td>\n",
       "      <td>18.5</td>\n",
       "    </tr>\n",
       "    <tr>\n",
       "      <th>5</th>\n",
       "      <td>180.8</td>\n",
       "      <td>10.8</td>\n",
       "      <td>58.4</td>\n",
       "      <td>12.9</td>\n",
       "    </tr>\n",
       "    <tr>\n",
       "      <th>...</th>\n",
       "      <td>...</td>\n",
       "      <td>...</td>\n",
       "      <td>...</td>\n",
       "      <td>...</td>\n",
       "    </tr>\n",
       "    <tr>\n",
       "      <th>196</th>\n",
       "      <td>38.2</td>\n",
       "      <td>3.7</td>\n",
       "      <td>13.8</td>\n",
       "      <td>7.6</td>\n",
       "    </tr>\n",
       "    <tr>\n",
       "      <th>197</th>\n",
       "      <td>94.2</td>\n",
       "      <td>4.9</td>\n",
       "      <td>8.1</td>\n",
       "      <td>9.7</td>\n",
       "    </tr>\n",
       "    <tr>\n",
       "      <th>198</th>\n",
       "      <td>177.0</td>\n",
       "      <td>9.3</td>\n",
       "      <td>6.4</td>\n",
       "      <td>12.8</td>\n",
       "    </tr>\n",
       "    <tr>\n",
       "      <th>199</th>\n",
       "      <td>283.6</td>\n",
       "      <td>42.0</td>\n",
       "      <td>66.2</td>\n",
       "      <td>25.5</td>\n",
       "    </tr>\n",
       "    <tr>\n",
       "      <th>200</th>\n",
       "      <td>232.1</td>\n",
       "      <td>8.6</td>\n",
       "      <td>8.7</td>\n",
       "      <td>13.4</td>\n",
       "    </tr>\n",
       "  </tbody>\n",
       "</table>\n",
       "<p>200 rows × 4 columns</p>\n",
       "</div>"
      ],
      "text/plain": [
       "        TV  Radio  Newspaper  Sales\n",
       "1    230.1   37.8       69.2   22.1\n",
       "2     44.5   39.3       45.1   10.4\n",
       "3     17.2   45.9       69.3    9.3\n",
       "4    151.5   41.3       58.5   18.5\n",
       "5    180.8   10.8       58.4   12.9\n",
       "..     ...    ...        ...    ...\n",
       "196   38.2    3.7       13.8    7.6\n",
       "197   94.2    4.9        8.1    9.7\n",
       "198  177.0    9.3        6.4   12.8\n",
       "199  283.6   42.0       66.2   25.5\n",
       "200  232.1    8.6        8.7   13.4\n",
       "\n",
       "[200 rows x 4 columns]"
      ]
     },
     "metadata": {},
     "output_type": "display_data"
    }
   ],
   "source": [
    "import numpy as np\n",
    "import numpy.linalg as la\n",
    "import pandas as pd\n",
    "import matplotlib.pyplot as plt\n",
    "import os\n",
    "\n",
    "file_path = os.path.dirname(os.path.realpath(\"__file__\"))\n",
    "df = pd.read_csv(f'{file_path}/../data/advertising.csv', index_col=0)\n",
    "display(df)"
   ]
  },
  {
   "cell_type": "markdown",
   "metadata": {},
   "source": [
    "### Step 2: Perform Simple Linear Regression\n",
    "Our dataset has $m = 200$ examples. In this simple linear regression demo, we will regress *Sales* onto *TV*. We proceed with the assumption $Y = f(X) + \\epsilon$ where $\\epsilon \\sim \\mathcal{N}(0, \\sigma^2)$ and $f(X) = \\beta_0 + \\beta_1 X$. We wish to learn the optimal parameters of the function $\\hat{f}(x) = \\hat{\\beta}_0 + \\hat{\\beta}_1 x = \\hat{y}$. Our error metric is defined as the residual sum of squares: $\\text{RSS} = e_1^2 + \\cdots + e_m^2$, where $e_i = y_i - \\hat{y}_i$. \n",
    "\n",
    "The best estimates for $\\beta_0$, $\\beta_1$ that minimize the residual sum of squares $\\left(RSS = \\sum_{i = 1}^m \\left( y_i - \\hat{y}_i \\right)^2 \\right)$ are \n",
    "$$\n",
    "\\hat{\\beta}_1 = \\frac{\\sum_{i = 1}^m (x_i - \\bar{x})(y_i - \\bar{y})}{\\sum_{i = 1}^m (x_i - \\bar{x})^2} \\approx \\frac{\\text{Cov}(X, Y)}{\\text{Var}(X)}, \\;\\;\\;\n",
    "\\hat{\\beta}_0 = \\bar{y} - \\hat{\\beta}_1 \\bar{x}, \\;\\;\\; \\text{and} \\\\\n",
    "\\text{Var}(\\hat{\\beta}_1) = \\frac{\\sigma^2}{\\sum_{i = 1}^m (x_i - \\bar{x})^2}, \\;\\;\\; \\text{Var}(\\hat{\\beta}_0) = \\frac{\\sigma^2 \\sum_{i = 1}^m x_i^2}{m \\sum_{i = 1}^m (x_i - \\bar{x})^2}, \\;\\;\\; \\hat{\\sigma}^2 = \\frac{1}{m - 2} \\sum_{i = 1}^m\\left( y_i - \\hat{y}_i \\right)^2\n",
    "$$"
   ]
  },
  {
   "cell_type": "code",
   "execution_count": 25,
   "metadata": {},
   "outputs": [
    {
     "data": {
      "text/plain": [
       "<AxesSubplot:title={'center':'Relationship between Sales and TV'}, xlabel='TV', ylabel='Sales'>"
      ]
     },
     "metadata": {},
     "output_type": "display_data"
    },
    {
     "data": {
      "image/png": "[encoded data removed]",
      "text/plain": [
       "<Figure size 432x288 with 1 Axes>"
      ]
     },
     "metadata": {
      "needs_background": "light"
     },
     "output_type": "display_data"
    }
   ],
   "source": [
    "# define functions to organize computation\n",
    "def compute_Sxx(x: np.ndarray):\n",
    "    \"\"\"\n",
    "    Returns $\\sum_{i=1}^m (x_i - \\bar{x})^2$\n",
    "    \n",
    "    @args\n",
    "    - x: np array ~ (m)\n",
    "    \"\"\"\n",
    "    x_bar = np.mean(x)\n",
    "    x_centered = x - x_bar\n",
    "    return np.dot(x_centered, x_centered)\n",
    "\n",
    "def compute_Sxy(x: np.ndarray, y: np.ndarray):\n",
    "    \"\"\"\n",
    "    Returns $\\sum_{i=1}^m (x_i - \\bar{x})(y_i - \\bar{y})$\n",
    "    \n",
    "    @args\n",
    "    - x: np array ~ (m)\n",
    "    - y: np array ~ (m)\n",
    "    \"\"\"\n",
    "    x_centered = x - np.mean(x)\n",
    "    y_centered = y - np.mean(y)\n",
    "    return np.dot(x_centered, y_centered)\n",
    "\n",
    "# compute the optimal weights\n",
    "y = df['Sales'].to_numpy()\n",
    "x = df['TV'].to_numpy()\n",
    "beta_1_hat = compute_Sxy(x, y) / compute_Sxx(x)\n",
    "beta_0_hat = np.mean(y) - np.mean(x) * beta_1_hat\n",
    "\n",
    "# plot the original points\n",
    "fig, ax = plt.subplots()\n",
    "ax.set_xlabel('TV')\n",
    "ax.set_ylabel('Sales')\n",
    "ax.set_title('Relationship between Sales and TV')\n",
    "ax.scatter(x, y, s=10)\n",
    "\n",
    "# plot the line\n",
    "x_linspace = np.linspace(start=np.min(x), stop=np.max(x))\n",
    "y_pred = x_linspace * beta_1_hat + beta_0_hat\n",
    "ax.plot(x_linspace, y_pred, color='red')\n",
    "\n",
    "# display the plot\n",
    "display(ax)"
   ]
  },
  {
   "cell_type": "markdown",
   "metadata": {},
   "source": [
    "### Step 3: Perform Multiple Linear Regression\n",
    "Let us denote *Sales* with $Y$. Then, we have $p = 3$ features. Our model assumes a linear relationship between $Y$ and $X_1, X_2, \\ldots, X_p$. \n",
    "$$\n",
    "    Y = \\epsilon + \\beta_0 + \\sum_{i = 1}^n \\beta_i X_i, \\;\\; \\mathbb{E}[\\epsilon] = 0, \\;\\; \\text{Var}(\\epsilon) = \\sigma^2 \n",
    "$$\n",
    "We can express the above in matrix form. Denote $\\mathbf{X}$ as an $m \\times (p + 1)$ matrix with each row an input vector with $1$ in the first position corresponding to $\\beta_0$. Further, let $\\boldsymbol{\\beta} = (\\beta_0, \\beta_1, \\ldots, \\beta_p)^\\intercal$, and let $\\mathbf{y}$ denote the $m$-vector of outputs corresponding to $\\mathbf{X}$. Then, \n",
    "$$\n",
    "    \\mathbf{y} = \\mathbf{X}\\boldsymbol{\\beta} + \\boldsymbol{\\epsilon}  , \\;\\; \\mathbb{E}[\\epsilon_i] = 0, \\;\\; \\text{Var}(\\epsilon_i) = \\sigma^2 \n",
    "$$\n",
    "We can compute the unbiased estimator $\\hat{\\boldsymbol{\\beta}}$ as follows:\n",
    "$$\n",
    "    \\text{RSS} = (\\mathbf{y} - \\mathbf{X}\\boldsymbol{\\beta})^\\intercal (\\mathbf{y} - \\mathbf{X}\\boldsymbol{\\beta}) \\Rightarrow \n",
    "    \\frac{\\partial \\text{RSS}}{\\partial \\boldsymbol{\\beta}} = -2 \\mathbf{X}^\\intercal (\\mathbf{y} - \\mathbf{X}\\boldsymbol{\\beta}) \\Rightarrow\n",
    "    \\hat{\\boldsymbol{\\beta}} = (\\mathbf{X}^\\intercal \\mathbf{X})^{-1} \\mathbf{X}^\\intercal \\mathbf{y} \\\\\n",
    "    \\text{Var}(\\hat{\\boldsymbol{\\beta}}) = (\\mathbf{X}^\\intercal \\mathbf{X})^{-1} \\sigma^2, \\;\\;\\; \\hat{\\sigma}^2 = \\frac{1}{m - p - 1} \\sum_{i = 1}^m (y_i - \\hat{y}_i)^2 \n",
    "$$"
   ]
  },
  {
   "cell_type": "code",
   "execution_count": 10,
   "metadata": {},
   "outputs": [
    {
     "name": "stdout",
     "output_type": "stream",
     "text": [
      "MSE on training data: 2.784126314510936\n"
     ]
    }
   ],
   "source": [
    "# define functions to organize computation\n",
    "def compute_pseudoinverse(X: np.ndarray):\n",
    "    \"\"\"\n",
    "    Returns $(X^T X)^{-1} X^T$\n",
    "    \n",
    "    @args\n",
    "    - X: np array ~ (m, p+1)\n",
    "    \"\"\"\n",
    "    return la.inv(X.T @ X) @ X.T\n",
    "\n",
    "def compute_mse(X: np.ndarray, y: np.ndarray, f: callable):\n",
    "    \"\"\"\n",
    "    Returns the MSE: Average[ (y - f(X))^2 ]\n",
    "\n",
    "    @args\n",
    "    - X: np array ~ (m, p+1)\n",
    "    - y: np array ~ (m,)\n",
    "    - f: function\n",
    "    \"\"\"\n",
    "    m = y.shape[0]\n",
    "    diff = y - f(X)\n",
    "    return np.dot(diff, diff) / m\n",
    "\n",
    "y = df['Sales'].to_numpy()\n",
    "m = y.shape[0]\n",
    "X = np.hstack((np.ones((m, 1)), df[['TV', 'Radio', 'Newspaper']].to_numpy()))\n",
    "beta_hat = compute_pseudoinverse(X) @ y\n",
    "mse = compute_mse(X, y, lambda x: x @ beta_hat)\n",
    "print('MSE on training data:', mse)"
   ]
  },
  {
   "cell_type": "markdown",
   "metadata": {},
   "source": [
    "### Step 4: Ridge Regression and Lasso"
   ]
  },
  {
   "cell_type": "code",
   "execution_count": null,
   "metadata": {},
   "outputs": [],
   "source": []
  }
 ],
 "metadata": {
  "kernelspec": {
   "display_name": "base",
   "language": "python",
   "name": "python3"
  },
  "language_info": {
   "codemirror_mode": {
    "name": "ipython",
    "version": 3
   },
   "file_extension": ".py",
   "mimetype": "text/x-python",
   "name": "python",
   "nbconvert_exporter": "python",
   "pygments_lexer": "ipython3",
   "version": "3.9.12"
  },
  "orig_nbformat": 4
 },
 "nbformat": 4,
 "nbformat_minor": 2
}
